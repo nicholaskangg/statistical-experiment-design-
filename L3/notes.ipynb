{
 "cells": [
  {
   "cell_type": "markdown",
   "id": "1fffec05-d9f6-453e-8bf3-792c0fd519eb",
   "metadata": {},
   "source": [
    "# Blocking Principle\n",
    "A nuisance factor is a factor that probably has some unintended effect on the response.\n",
    "There are some ways we can control nuisance factors:\n",
    "\n",
    "| Nusiance variable type | method |\n",
    "|---|---|\n",
    "| known and uncontrollable | Blocking |\n",
    "| known and uncontrollable | Analysis of covariance |\n",
    "| unknown and uncontrollable | randomization |\n",
    "\n",
    "### Randomised Complete Block Design (RCBD)\n",
    "The RCBD can be intepreted as a design to reduce the residual error in an experiment by removing variability due to known and controllable nuisance variables (via blocking).\n",
    "\n",
    "Here we can extend the ANOVA linear model to the RCBD.\n",
    "\n",
    "Given $a$ treatments (factor levels) and $b$ blocks, the effects model for the RCBD is:\n",
    "\n",
    "\\begin{equation}\n",
    "  y_{ij}=\\mu+\\tau_i+\\beta_j+\\epsilon_{ij}=\\begin{cases}\n",
    "    i=1,2,...,a \\\\\n",
    "    j=1,2,...,b\n",
    "  \\end{cases}\n",
    "\\end{equation}\n",
    "\n",
    "The relevant (fixed effects) hypotheses are:\n",
    "\n",
    "\\begin{equation}\n",
    "    H_0: \\tau_1 = \\tau_2 ... \\tau_a = 0\n",
    "\\end{equation}\n",
    "\n",
    "Total analysis of variance is:\n",
    "<center>\n",
    "\\begin{equation}\n",
    "    \\sum_{i=1}^a\n",
    "    \\sum_{j=1}^b\n",
    "    (y_{ij}-\\overline{y})^2\n",
    "    = \\sum_{i=1}^a\n",
    "    \\sum_{j=1}^b[(\\overline{y}_i-\\overline{y}..)+(\\overline{y}_j-\\overline{y}..) + (\\overline{y}_{ij}-\\overline{y}_i-\\overline{y}_j+\\overline{y}..)]^2 \\\\\n",
    "    = b\\sum_{i=1}^a(\\overline{y}_i-\\overline{y}..)^2 + a\\sum_{j=1}^b(\\overline{y}_j-\\overline{y}..)^2 \\\\\n",
    "    +\\sum_{i=1}^a\n",
    "    \\sum_{j=1}^b(\\overline{y}_{ij}-\\overline{y}_i-\\overline{y}_j+\\overline{y}..)^2 \\\\ SS_T=SS_{Treatments} + SS_{Blocks} + SS_E\n",
    "\\end{equation}\n",
    "\n",
    "<br/>\n",
    "The degrees of freedom are:\n",
    "\n",
    "\\begin{equation}\n",
    "    ab-1=a-1+b-1+(a-1)(b-1)\n",
    "\\end{equation}\n",
    "</center>\n",
    "<br/>\n",
    "Summary of ANOVA for the RBCD:\n",
    "\n",
    "<img src=\"https://i.ibb.co/DYnzD8y/Screenshot-2021-07-28-at-4-31-02-PM.png\" width=\"600px\" />"
   ]
  },
  {
   "cell_type": "code",
   "execution_count": 17,
   "id": "6547c079-9f4a-4b23-9e5b-e9d91ca3e968",
   "metadata": {},
   "outputs": [
    {
     "data": {
      "text/plain": [
       "            Df Sum Sq Mean Sq F value  Pr(>F)   \n",
       "Treatment    3  178.2   59.39   8.107 0.00192 **\n",
       "Block        5  192.2   38.45   5.249 0.00553 **\n",
       "Residuals   15  109.9    7.33                   \n",
       "---\n",
       "Signif. codes:  0 ‘***’ 0.001 ‘**’ 0.01 ‘*’ 0.05 ‘.’ 0.1 ‘ ’ 1"
      ]
     },
     "metadata": {},
     "output_type": "display_data"
    }
   ],
   "source": [
    "# Vascular Graft Experiment\n",
    "\n",
    "vascular.data <- read.csv('vascular.csv')\n",
    "anova <- aov(Yield ~ Treatment + Block, data=vascular.data)\n",
    "summary(anova)"
   ]
  },
  {
   "cell_type": "markdown",
   "id": "4f73caa4-5eb2-458a-965b-1e7f497fa936",
   "metadata": {},
   "source": [
    "The treatment P-Value = 0.00192 < 0.05 and therefore we reject the null hypothesis.\n",
    "We can conclude that the treatments do have an effect, i.e extrusion pressure affects yield"
   ]
  },
  {
   "cell_type": "markdown",
   "id": "a18a9f3f-c5a9-4d0b-9125-15c0f92f7258",
   "metadata": {},
   "source": [
    "# Multi-Blocking Principle\n",
    "For 2 nuisance factors, we can use the latin square design.\n",
    "\n",
    "### Latin Square Design (LSD)\n",
    "LSD is a modified version of the RCBD where both columns and rows are unique. In general, a Latin square for $p$\n",
    "variables or a $p*p$ Latin square, is a sqaure containing $p$ rows and columns. LSD is an effects model and is completely additive, there is no interation between rows, columns and treatments.\n",
    "\n",
    "The statistical model for a Latin square is:\n",
    "\n",
    "\\begin{equation}\n",
    "    y_{ijk} = \\mu + \\alpha_i + \\tau_j + \\beta_k + \\epsilon_{ijk} \\, \\text{ for } \\, i=1,2,...,p; j=1,2,...,p; k=1,2,...,p \\\\\n",
    "    y_{ijk} \\text{ is the observation in the }i^{th} \\text{row and }k^{th} \\text{ column for the } j^{th} \\text{treatment} \\\\\n",
    "    \\mu = \\text{ overall mean} \\\\\n",
    "    \\alpha_i \\, \\text{is the i}^{th} \\text{ row effect} \\\\\n",
    "    \\tau_j \\, \\text{is the j}^{th} \\text{ treatment effect} \\\\\n",
    "    \\beta_j \\, \\text{is the k}^{th} \\text{ column effect} \\\\\n",
    "    \\epsilon_{ijk} \\, \\text{is the random error}\n",
    "\\end{equation}\n",
    "\n",
    "\n",
    "\\begin{equation}\n",
    "    \\text {Partioning the total sum of suqares of the $N=p^2$ observation:} \\\\\n",
    "    SS_T=SS_{Rows}+SS_{Columns}+SS_{Treatments}+SS_{E} \\\\\n",
    "\\end{equation}\n",
    "\n",
    "\\begin{equation}\n",
    "    \\text{Respective degree of freedom}: \\\\\n",
    "    p^2 – 1 = (p – 1) + (p – 1) + (p – 1) + (p – 2)(p – 1) \\\\\n",
    "\\end{equation}\n",
    " \n",
    " \n",
    "\\begin{equation}\n",
    "    \\text{The statistic, F-ratio, for testing no differences in treatment means is:} \\\\\n",
    "    F_0=\\frac{MS_{Treatments}}{MS_E} \\text{ is distributed as } F_{p-1, (p-2)(p-1)} \\text{ under the null hypothesis. }\n",
    "\\end{equation}\n",
    "\\\n",
    "\\\n",
    "Summary: \\\n",
    "<img src='https://i.ibb.co/LSKj9yC/Screenshot-2021-07-29-at-12-35-35-AM.png' width='600px' />"
   ]
  },
  {
   "cell_type": "code",
   "execution_count": null,
   "id": "98663596-2109-476c-990f-921ef647ed36",
   "metadata": {},
   "outputs": [],
   "source": []
  }
 ],
 "metadata": {
  "kernelspec": {
   "display_name": "R",
   "language": "R",
   "name": "ir"
  },
  "language_info": {
   "codemirror_mode": "r",
   "file_extension": ".r",
   "mimetype": "text/x-r-source",
   "name": "R",
   "pygments_lexer": "r",
   "version": "4.1.0"
  }
 },
 "nbformat": 4,
 "nbformat_minor": 5
}
