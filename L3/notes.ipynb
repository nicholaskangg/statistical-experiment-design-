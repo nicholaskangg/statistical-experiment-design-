{
 "cells": [
  {
   "cell_type": "markdown",
   "id": "1fffec05-d9f6-453e-8bf3-792c0fd519eb",
   "metadata": {},
   "source": [
    "# Blocking Principle\n",
    "A nuisance factor is a factor that probably has some unintended effect on the response.\n",
    "There are some ways we can control nuisance factors:\n",
    "\n",
    "| Nusiance variable type | method |\n",
    "|---|---|\n",
    "| known and uncontrollable | Blocking |\n",
    "| known and uncontrollable | Analysis of covariance |\n",
    "| unknown and uncontrollable | randomization |\n",
    "\n",
    "### Randomised Complete Block Design (RCBD)\n",
    "The RCBD can be intepreted as a design to reduce the residual error in an experiment by removing variability due to known and controllable nuisance variables (via blocking).\n",
    "\n",
    "Here we can extend the ANOVA linear model to the RCBD.\n",
    "\n",
    "Given $a$ treatments (factor levels) and $b$ blocks, the effects model for the RCBD is:\n",
    "\n",
    "\\begin{equation}\n",
    "  y_{ij}=\\mu+\\tau_i+\\beta_j+\\epsilon_{ij}=\\begin{cases}\n",
    "    i=1,2,...,a \\\\\n",
    "    j=1,2,...,b\n",
    "  \\end{cases}\n",
    "\\end{equation}\n",
    "\n",
    "The relevant (fixed effects) hypotheses are:\n",
    "\n",
    "\\begin{equation}\n",
    "    H_0: \\tau_1 = \\tau_2 ... \\tau_a = 0\n",
    "\\end{equation}\n",
    "\n",
    "Total analysis of variance is:\n",
    "<center>\n",
    "\\begin{equation}\n",
    "    \\sum_{i=1}^a\n",
    "    \\sum_{j=1}^b\n",
    "    (y_{ij}-\\overline{y})^2\n",
    "    = \\sum_{i=1}^a\n",
    "    \\sum_{j=1}^b[(\\overline{y}_i-\\overline{y}..)+(\\overline{y}_j-\\overline{y}..) + (\\overline{y}_{ij}-\\overline{y}_i-\\overline{y}_j+\\overline{y}..)]^2 \\\\\n",
    "    = b\\sum_{i=1}^a(\\overline{y}_i-\\overline{y}..)^2 + a\\sum_{j=1}^b(\\overline{y}_j-\\overline{y}..)^2 \\\\\n",
    "    +\\sum_{i=1}^a\n",
    "    \\sum_{j=1}^b(\\overline{y}_{ij}-\\overline{y}_i-\\overline{y}_j+\\overline{y}..)^2 \\\\ SS_T=SS_{Treatments} + SS_{Blocks} + SS_E\n",
    "\\end{equation}\n",
    "\n",
    "<br/>\n",
    "The degrees of freedom are:\n",
    "\n",
    "\\begin{equation}\n",
    "    ab-1=a-1+b-1+(a-1)(b-1)\n",
    "\\end{equation}\n",
    "</center>\n",
    "<br/>\n",
    "Summary of ANOVA for the RCBD:\n",
    "\n",
    "<img src=\"https://i.ibb.co/DYnzD8y/Screenshot-2021-07-28-at-4-31-02-PM.png\" width=\"600px\" />"
   ]
  },
  {
   "cell_type": "markdown",
   "id": "c8a0e028-424c-42c4-b5bd-7735d7063c2a",
   "metadata": {},
   "source": [
    "### Vascular Graft Experiment\n",
    "Vascular grafts are created by extruding Polytetrafluoroethylene (PTFE) resin combined with a lubricant into tubes. Often some of these tubes contain defects known as flicks.\n",
    "<!-- The hypothesis is that the variation in these tubes are caused not by manufacturing variations at the resin supplier side but rather natural variations in the material. -->\n",
    "<!-- is to test the consistency of the resin with respect to parameters such as *molecular weight*,\n",
    "*mean particle size*, *retention*, and *peak height ratio* -->\n",
    "The goal of the experiment is to investigate the effects of 4 different levels of extrusion (treatments) that results in a higher percentage of producing flicks.\n",
    "\n",
    "As there may be significant batch-to-batch variations in the resins due to natural variations, we use RCBD considering 4 treatment levels and six batches of resin (blocks). The response variable is yield, or the percentage of tubes in the production run that does not contain flicks.\n",
    "\n",
    "The null hypothesis $H_0$ is that extrusion pressure does not affect the yield.\n"
   ]
  },
  {
   "cell_type": "code",
   "execution_count": 26,
   "id": "8d7dfc6d-b510-49ad-a1d6-afe4f7cba90d",
   "metadata": {},
   "outputs": [
    {
     "data": {
      "text/html": [
       "<table class=\"dataframe\">\n",
       "<caption>A data.frame: 5 × 8</caption>\n",
       "<thead>\n",
       "\t<tr><th scope=col>Treatment</th><th scope=col>Block.1</th><th scope=col>Block.2</th><th scope=col>Block.3</th><th scope=col>Block.4</th><th scope=col>Block.5</th><th scope=col>Block.6</th><th scope=col>Total</th></tr>\n",
       "\t<tr><th scope=col>&lt;chr&gt;</th><th scope=col>&lt;dbl&gt;</th><th scope=col>&lt;dbl&gt;</th><th scope=col>&lt;dbl&gt;</th><th scope=col>&lt;dbl&gt;</th><th scope=col>&lt;dbl&gt;</th><th scope=col>&lt;dbl&gt;</th><th scope=col>&lt;dbl&gt;</th></tr>\n",
       "</thead>\n",
       "<tbody>\n",
       "\t<tr><td>8500psi</td><td> 90.3</td><td> 89.2</td><td> 98.2</td><td> 93.9</td><td> 87.4</td><td> 97.9</td><td> 556.9</td></tr>\n",
       "\t<tr><td>8700psi</td><td> 92.5</td><td> 89.5</td><td> 90.6</td><td> 94.7</td><td> 87.0</td><td> 95.8</td><td> 550.1</td></tr>\n",
       "\t<tr><td>8900psi</td><td> 85.5</td><td> 90.8</td><td> 89.6</td><td> 86.2</td><td> 88.0</td><td> 93.4</td><td> 533.5</td></tr>\n",
       "\t<tr><td>9100psi</td><td> 82.5</td><td> 89.5</td><td> 85.6</td><td> 87.4</td><td> 78.9</td><td> 90.7</td><td> 514.6</td></tr>\n",
       "\t<tr><td>Total  </td><td>350.8</td><td>359.0</td><td>364.0</td><td>362.2</td><td>341.3</td><td>377.8</td><td>2155.1</td></tr>\n",
       "</tbody>\n",
       "</table>\n"
      ],
      "text/latex": [
       "A data.frame: 5 × 8\n",
       "\\begin{tabular}{llllllll}\n",
       " Treatment & Block.1 & Block.2 & Block.3 & Block.4 & Block.5 & Block.6 & Total\\\\\n",
       " <chr> & <dbl> & <dbl> & <dbl> & <dbl> & <dbl> & <dbl> & <dbl>\\\\\n",
       "\\hline\n",
       "\t 8500psi &  90.3 &  89.2 &  98.2 &  93.9 &  87.4 &  97.9 &  556.9\\\\\n",
       "\t 8700psi &  92.5 &  89.5 &  90.6 &  94.7 &  87.0 &  95.8 &  550.1\\\\\n",
       "\t 8900psi &  85.5 &  90.8 &  89.6 &  86.2 &  88.0 &  93.4 &  533.5\\\\\n",
       "\t 9100psi &  82.5 &  89.5 &  85.6 &  87.4 &  78.9 &  90.7 &  514.6\\\\\n",
       "\t Total   & 350.8 & 359.0 & 364.0 & 362.2 & 341.3 & 377.8 & 2155.1\\\\\n",
       "\\end{tabular}\n"
      ],
      "text/markdown": [
       "\n",
       "A data.frame: 5 × 8\n",
       "\n",
       "| Treatment &lt;chr&gt; | Block.1 &lt;dbl&gt; | Block.2 &lt;dbl&gt; | Block.3 &lt;dbl&gt; | Block.4 &lt;dbl&gt; | Block.5 &lt;dbl&gt; | Block.6 &lt;dbl&gt; | Total &lt;dbl&gt; |\n",
       "|---|---|---|---|---|---|---|---|\n",
       "| 8500psi |  90.3 |  89.2 |  98.2 |  93.9 |  87.4 |  97.9 |  556.9 |\n",
       "| 8700psi |  92.5 |  89.5 |  90.6 |  94.7 |  87.0 |  95.8 |  550.1 |\n",
       "| 8900psi |  85.5 |  90.8 |  89.6 |  86.2 |  88.0 |  93.4 |  533.5 |\n",
       "| 9100psi |  82.5 |  89.5 |  85.6 |  87.4 |  78.9 |  90.7 |  514.6 |\n",
       "| Total   | 350.8 | 359.0 | 364.0 | 362.2 | 341.3 | 377.8 | 2155.1 |\n",
       "\n"
      ],
      "text/plain": [
       "  Treatment Block.1 Block.2 Block.3 Block.4 Block.5 Block.6 Total \n",
       "1 8500psi    90.3    89.2    98.2    93.9    87.4    97.9    556.9\n",
       "2 8700psi    92.5    89.5    90.6    94.7    87.0    95.8    550.1\n",
       "3 8900psi    85.5    90.8    89.6    86.2    88.0    93.4    533.5\n",
       "4 9100psi    82.5    89.5    85.6    87.4    78.9    90.7    514.6\n",
       "5 Total     350.8   359.0   364.0   362.2   341.3   377.8   2155.1"
      ]
     },
     "metadata": {},
     "output_type": "display_data"
    }
   ],
   "source": [
    "library(dplyr)\n",
    "\n",
    "# load data\n",
    "data <- read.csv('vascular.csv')\n",
    "\n",
    "# extract yield by batch\n",
    "Block.1 <- subset(data, Block == 'batch1')$Yield\n",
    "Block.2 <- subset(data, Block == 'batch2')$Yield\n",
    "Block.3 <- subset(data, Block == 'batch3')$Yield\n",
    "Block.4 <- subset(data, Block == 'batch4')$Yield\n",
    "Block.5 <- subset(data, Block == 'batch5')$Yield\n",
    "Block.6 <- subset(data, Block == 'batch6')$Yield\n",
    "\n",
    "# create the table\n",
    "tbl <- data.frame(Treatment=unique(data$Treatment), Block.1, Block.2, Block.3, Block.4, Block.5, Block.6)\n",
    "\n",
    "# get totals for row and column\n",
    "tbl <- cbind(tbl, Total = rowSums(tbl[,-1]))\n",
    "tbl %>% bind_rows(summarise(., across(where(is.numeric), sum), across(where(is.character), ~\"Total\")))"
   ]
  },
  {
   "cell_type": "code",
   "execution_count": null,
   "id": "484f490c-efa1-423d-a20c-b7641f993dc1",
   "metadata": {},
   "outputs": [],
   "source": [
    "anova <- aov(Yield ~ Treatment + Block, data=vascular.data)\n",
    "summary(anova)"
   ]
  },
  {
   "cell_type": "markdown",
   "id": "4f73caa4-5eb2-458a-965b-1e7f497fa936",
   "metadata": {},
   "source": [
    "The treatment P-Value = 0.00192 < 0.05 and therefore we reject the null hypothesis.\n",
    "We conclude that the treatments do have an effect, i.e extrusion pressure affects yield."
   ]
  },
  {
   "cell_type": "markdown",
   "id": "a18a9f3f-c5a9-4d0b-9125-15c0f92f7258",
   "metadata": {},
   "source": [
    "# Multi-Blocking Principle\n",
    "For 2 nuisance factors, we can use the latin Square Design.\n",
    "For 3 nuisance factors, we can use Graeco-Latin Squares.\n",
    "### Latin Square Design (LSD)\n",
    "LSD is a modified version of the RCBD where both columns and rows are unique. In general, a Latin square for $p$\n",
    "variables or a $p*p$ Latin square, is a square containing $p$ rows and $p$ columns. LSD is an effects model and is completely additive meaning that there is no interation between rows, columns and treatments.\n",
    "\n",
    "The statistical model for a Latin square is:\n",
    "\n",
    "\\begin{equation}\n",
    "    y_{ijk} = \\mu + \\alpha_i + \\tau_j + \\beta_k + \\epsilon_{ijk} \\begin{cases}\n",
    "    i=1,2,...,p \\\\\n",
    "    j=1,2,...,p \\\\\n",
    "    k=1,2,...,p\n",
    "  \\end{cases} \\\\\n",
    "    y_{ijk} \\text{ is the observation in the }i^{th} \\text{row and }k^{th} \\text{ column for the } j^{th} \\text{treatment} \\\\\n",
    "    \\mu = \\text{ overall mean} \\\\\n",
    "    \\alpha_i \\, \\text{is the i}^{th} \\text{ row effect} \\\\\n",
    "    \\tau_j \\, \\text{is the j}^{th} \\text{ treatment effect} \\\\\n",
    "    \\beta_j \\, \\text{is the k}^{th} \\text{ column effect} \\\\\n",
    "    \\epsilon_{ijk} \\, \\text{is the random error}\n",
    "\\end{equation}\n",
    "\n",
    "\n",
    "\\begin{equation}\n",
    "    \\text {Partioning the total sum of squares of the $N=p^2$ observation:} \\\\\n",
    "    SS_T=SS_{Rows}+SS_{Columns}+SS_{Treatments}+SS_{E} \\\\\n",
    "\\end{equation}\n",
    "\n",
    "\\begin{equation}\n",
    "    \\text{Respective degree of freedom}: \\\\\n",
    "    p^2 – 1 = (p – 1) + (p – 1) + (p – 1) + (p – 2)(p – 1) \\\\\n",
    "\\end{equation}\n",
    " \n",
    " \n",
    "\\begin{equation}\n",
    "    \\text{The statistic, F-ratio, for testing no differences in treatment means is:} \\\\\n",
    "    F_0=\\frac{MS_{Treatments}}{MS_E} \\text{ is distributed as } F_{p-1, (p-2)(p-1)} \\text{ under the null hypothesis. }\n",
    "\\end{equation}\n",
    "\\\n",
    "\\\n",
    "Summary: \\\n",
    "<img src='https://i.ibb.co/LSKj9yC/Screenshot-2021-07-29-at-12-35-35-AM.png' width='600px' />"
   ]
  },
  {
   "cell_type": "markdown",
   "id": "05e94bfe-027d-45a5-bce3-0179a1ffe801",
   "metadata": {},
   "source": [
    "### Rocket Propellant Experiment"
   ]
  },
  {
   "cell_type": "code",
   "execution_count": 7,
   "id": "ea0f5c27-4e64-427f-8a7b-fe2c337d2f74",
   "metadata": {},
   "outputs": [
    {
     "data": {
      "text/plain": [
       "            Df Sum Sq Mean Sq F value  Pr(>F)   \n",
       "Treatment    4    330   82.50   7.734 0.00254 **\n",
       "Batch        4     68   17.00   1.594 0.23906   \n",
       "Operator     4    150   37.50   3.516 0.04037 * \n",
       "Residuals   12    128   10.67                   \n",
       "---\n",
       "Signif. codes:  0 ‘***’ 0.001 ‘**’ 0.01 ‘*’ 0.05 ‘.’ 0.1 ‘ ’ 1"
      ]
     },
     "metadata": {},
     "output_type": "display_data"
    },
    {
     "data": {
      "text/plain": [
       "            Df Sum Sq Mean Sq F value  Pr(>F)   \n",
       "Treatment    4    330   82.50   7.734 0.00254 **\n",
       "Batch        4     68   17.00   1.594 0.23906   \n",
       "Operator     4    150   37.50   3.516 0.04037 * \n",
       "Residuals   12    128   10.67                   \n",
       "---\n",
       "Signif. codes:  0 ‘***’ 0.001 ‘**’ 0.01 ‘*’ 0.05 ‘.’ 0.1 ‘ ’ 1"
      ]
     },
     "metadata": {},
     "output_type": "display_data"
    }
   ],
   "source": [
    "rocket1.data <- read.csv('rocket1.csv')\n",
    "# Coded.Burn.Rate is the Burn.Rate minius the mean 25. \n",
    "rocket1.m1 <- aov(Coded.Burn.Rate ~ Treatment + Batch + Operator, data=rocket1.data)\n",
    "summary(rocket1.m1)\n",
    "\n",
    "# There is no difference in using the Coded.Burn.Rate or Burn.Rate\n",
    "rocket1.m2 <- aov(Burn.Rate ~ Treatment + Batch + Operator, data=rocket1.data)\n",
    "summary(rocket1.m2)"
   ]
  },
  {
   "cell_type": "markdown",
   "id": "221a585e-3819-4e44-8e6d-e62fd5c1f658",
   "metadata": {},
   "source": [
    "The P-value = 0.0025 < 5%. Therefore, we can reject the null hypothesis and conclude that there is evidence of a difference in outcome due to formulations."
   ]
  },
  {
   "cell_type": "markdown",
   "id": "3202ac7b-ca4a-414d-a503-6d8af80b4619",
   "metadata": {},
   "source": [
    "### The Graeco-Latin Square Design\n",
    "For 3 nuisance variable the Graeco-Latin Square Design can be used. \\\n",
    "The statistical model for the Graeco-Latin square design is:\n",
    "\n",
    "\\begin{equation}\n",
    "    y_{ijkl}=\\mu+\\theta_i+\\tau_j+\\omega_k+\\psi_l+\\epsilon_{ijk}\n",
    "    \\begin{cases}\n",
    "         i = 1,2,...,p \\\\\n",
    "         j = 1,2,...,p \\\\\n",
    "         k = 1,2,...,p \\\\\n",
    "         l = 1,2,...,p\n",
    "    \\end{cases}\n",
    "\\end{equation}\n",
    "\n",
    "\\begin{equation}\n",
    "    \\theta_i = \\text{Row Effect} \\\\\n",
    "    \\tau_j = \\text{Latin Variable Effect} \\\\\n",
    "    \\omega_k = \\text{Greek Variable Effect} \\\\\n",
    "    \\psi_l = \\text{Col Effect} \\\\\n",
    "    \\epsilon_{ijk} = \\text{NID }(0, \\sigma^2) \\text{ error}\n",
    "\\end{equation}\n",
    "\n",
    "The ANOVA table is: \\\n",
    "<img src=\"https://i.ibb.co/yqtsnZT/Screenshot-2021-07-29-at-3-23-18-PM.png\" width='600px'/>"
   ]
  },
  {
   "cell_type": "markdown",
   "id": "ed83c106-6599-4d54-b0fe-54141c2be04b",
   "metadata": {},
   "source": [
    "We perform the GSLD test on the rocket propellant experiment with a additional nusiance factor 'Assembly'."
   ]
  },
  {
   "cell_type": "code",
   "execution_count": 9,
   "id": "e39f11ed-8441-4927-ad29-99dfb2b69408",
   "metadata": {},
   "outputs": [
    {
     "data": {
      "text/plain": [
       "            Df Sum Sq Mean Sq F value  Pr(>F)   \n",
       "Treatment    4    330   82.50  10.000 0.00334 **\n",
       "Batch        4     68   17.00   2.061 0.17831   \n",
       "Operator     4    150   37.50   4.545 0.03293 * \n",
       "Assembly     4     62   15.50   1.879 0.20764   \n",
       "Residuals    8     66    8.25                   \n",
       "---\n",
       "Signif. codes:  0 ‘***’ 0.001 ‘**’ 0.01 ‘*’ 0.05 ‘.’ 0.1 ‘ ’ 1"
      ]
     },
     "metadata": {},
     "output_type": "display_data"
    }
   ],
   "source": [
    "rocket2.data <- read.csv('rocket2.csv')\n",
    "rocket2.m1 <- aov(Burn.Rate ~ Treatment + Batch + Operator + Assembly, data=rocket2.data)\n",
    "summary(rocket2.m1)"
   ]
  },
  {
   "cell_type": "markdown",
   "id": "678f3b32-9e15-479e-83d0-905505f2d300",
   "metadata": {},
   "source": [
    "Since the P-value = 0.0033 < 5%, there is evidence of a difference in outcome due to Formulations."
   ]
  },
  {
   "cell_type": "markdown",
   "id": "690dc62d-7a1b-41ef-8927-1c592ddc8eb0",
   "metadata": {},
   "source": [
    "### Randomised Incomplete Block Designs (RIBD)\n",
    "In each block is not large enough to test each treatment. We can use randomised block designs in which every treatment is not present in every block. \n",
    "### Balance Incomplete Block Designs (BIBD)\n",
    "When all treatment comparisons are important, the treatment combinations used in each block should be selected in a balance manner, such that any pair of treatments occurs together the same number of times as any other pair. The BIBD is an incomplete design block design in which any 2 treatments appear together an equal number of times.\n",
    "\n",
    "Suppose that there are $a$ treatments and $b$ blocks. In addition, we assume that each block contains $k$ treatments, that each treatment occurs $r$ times in the design, and there are $N=a*r=b*k$ total observation. The number of times each pair of treatments appears in the same block is,\n",
    "\\begin{equation}\n",
    "    \\lambda=\\frac{r(k-1)}{a-1}\\\\\n",
    "\\end{equation}\n",
    "\n",
    "The statistical model for the BIBD is:\n",
    "\n",
    "$y_{ij}=\\mu+\\tau_i+\\beta_j+\\epsilon_{ij}$\n",
    "\n",
    "\\\n",
    "The total variance of analysis is\n",
    "\n",
    "$SS_T=SS_{Treatments(adjusted)+SS_{Blocks}+SS_E}$\n",
    "\n",
    "where the sum of squares for treatments is adjusted to seperate the treatment and block effects.\n",
    "This is necessary as each treatment is represented in a different set of r blocks.\n",
    "\n",
    "The ANOVA table is: \\\n",
    "<img src='https://i.ibb.co/qY0jqMB/Screenshot-2021-07-29-at-11-26-09-PM.png' width='600px' />\n",
    "\n",
    "\n",
    "**Example** This is a BIBD with a = 4, b = 4, k = 3, r = 3, λ = 2, and N = 12\n",
    "\n",
    "<img src=\"https://i.ibb.co/Rb444y0/Screenshot-2021-07-30-at-12-47-15-PM.png\" width='400px'/>"
   ]
  },
  {
   "cell_type": "markdown",
   "id": "35df0172-5d96-4174-aefd-a27f26548c45",
   "metadata": {},
   "source": [
    "### The Chemical Catalyst Experiment\n",
    "**Dependent variable:** Time of reaction for a chemical process.\\\n",
    "**Independent variable:** Type of catalyst use.\\\n",
    "**Procedure:** Select a batch of raw material, loading the pilot plant, apply each catalyst in a seperate run of the pilot plant and observe the reaction time.\\\n",
    "**Why RIBD is applicable:** Because variations in the batches of raw material may affect the performance of the catalysts, the enginner decides to use batches of raw material as blocks. Each batch is only large enough to permit three catalyst to be run. Hence a RIBD must be used."
   ]
  },
  {
   "cell_type": "code",
   "execution_count": 98,
   "id": "8bab73d2-fb3c-466a-8e7b-8e753e5993a5",
   "metadata": {},
   "outputs": [
    {
     "data": {
      "text/html": [
       "<table class=\"dataframe\">\n",
       "<caption>A data.frame: 5 × 6</caption>\n",
       "<thead>\n",
       "\t<tr><th scope=col>Treatment</th><th scope=col>Block.1</th><th scope=col>Block.2</th><th scope=col>Block.3</th><th scope=col>Block.4</th><th scope=col>Total</th></tr>\n",
       "\t<tr><th scope=col>&lt;chr&gt;</th><th scope=col>&lt;dbl&gt;</th><th scope=col>&lt;dbl&gt;</th><th scope=col>&lt;dbl&gt;</th><th scope=col>&lt;dbl&gt;</th><th scope=col>&lt;dbl&gt;</th></tr>\n",
       "</thead>\n",
       "<tbody>\n",
       "\t<tr><td>c1   </td><td> 73</td><td> 74</td><td>  0</td><td> 71</td><td>218</td></tr>\n",
       "\t<tr><td>c2   </td><td>  0</td><td> 75</td><td> 67</td><td> 72</td><td>214</td></tr>\n",
       "\t<tr><td>c3   </td><td> 73</td><td> 75</td><td> 68</td><td>  0</td><td>216</td></tr>\n",
       "\t<tr><td>c4   </td><td> 75</td><td>  0</td><td> 72</td><td> 75</td><td>222</td></tr>\n",
       "\t<tr><td>Total</td><td>221</td><td>224</td><td>207</td><td>218</td><td>870</td></tr>\n",
       "</tbody>\n",
       "</table>\n"
      ],
      "text/latex": [
       "A data.frame: 5 × 6\n",
       "\\begin{tabular}{llllll}\n",
       " Treatment & Block.1 & Block.2 & Block.3 & Block.4 & Total\\\\\n",
       " <chr> & <dbl> & <dbl> & <dbl> & <dbl> & <dbl>\\\\\n",
       "\\hline\n",
       "\t c1    &  73 &  74 &   0 &  71 & 218\\\\\n",
       "\t c2    &   0 &  75 &  67 &  72 & 214\\\\\n",
       "\t c3    &  73 &  75 &  68 &   0 & 216\\\\\n",
       "\t c4    &  75 &   0 &  72 &  75 & 222\\\\\n",
       "\t Total & 221 & 224 & 207 & 218 & 870\\\\\n",
       "\\end{tabular}\n"
      ],
      "text/markdown": [
       "\n",
       "A data.frame: 5 × 6\n",
       "\n",
       "| Treatment &lt;chr&gt; | Block.1 &lt;dbl&gt; | Block.2 &lt;dbl&gt; | Block.3 &lt;dbl&gt; | Block.4 &lt;dbl&gt; | Total &lt;dbl&gt; |\n",
       "|---|---|---|---|---|---|\n",
       "| c1    |  73 |  74 |   0 |  71 | 218 |\n",
       "| c2    |   0 |  75 |  67 |  72 | 214 |\n",
       "| c3    |  73 |  75 |  68 |   0 | 216 |\n",
       "| c4    |  75 |   0 |  72 |  75 | 222 |\n",
       "| Total | 221 | 224 | 207 | 218 | 870 |\n",
       "\n"
      ],
      "text/plain": [
       "  Treatment Block.1 Block.2 Block.3 Block.4 Total\n",
       "1 c1         73      74       0      71     218  \n",
       "2 c2          0      75      67      72     214  \n",
       "3 c3         73      75      68       0     216  \n",
       "4 c4         75       0      72      75     222  \n",
       "5 Total     221     224     207     218     870  "
      ]
     },
     "metadata": {},
     "output_type": "display_data"
    }
   ],
   "source": [
    "# Load Data\n",
    "data <- read.csv(\"chemical.csv\")\n",
    "\n",
    "# Extract yield by batch\n",
    "Block.1 <- subset(data, Batch == '1')\n",
    "Block.2 <- subset(data, Batch == '2')\n",
    "Block.3 <- subset(data, Batch == '3')\n",
    "Block.4 <- subset(data, Batch == '4')\n",
    "\n",
    "# Merge values to unique treatments\n",
    "Treatment = data.frame(Treatment=c('c1', 'c2', 'c3', 'c4'))\n",
    "Block.1 <- merge(Treatment, Block.1, by = \"Treatment\", all = TRUE)$Yield\n",
    "Block.2 <- merge(Treatment, Block.2, by = \"Treatment\", all = TRUE)$Yield\n",
    "Block.3 <- merge(Treatment, Block.3, by = \"Treatment\", all = TRUE)$Yield\n",
    "Block.4 <- merge(Treatment, Block.4, by = \"Treatment\", all = TRUE)$Yield\n",
    "\n",
    "# Fill NA values with 0\n",
    "Block.1[is.na(Block.1)] <- 0\n",
    "Block.2[is.na(Block.2)] <- 0\n",
    "Block.3[is.na(Block.3)] <- 0\n",
    "Block.4[is.na(Block.4)] <- 0\n",
    "\n",
    "# Create the table\n",
    "tbl <- data.frame(Treatment, Block.1, Block.2, Block.3, Block.4)\n",
    "\n",
    "# Get Totals\n",
    "tbl <- cbind(tbl, Total = rowSums(tbl[,-1]))\n",
    "tbl %>% bind_rows(summarise(., across(where(is.numeric), sum), across(where(is.character), ~\"Total\")))"
   ]
  },
  {
   "cell_type": "code",
   "execution_count": 106,
   "id": "6d9f544b-aa23-4b62-a433-0f02056a0456",
   "metadata": {},
   "outputs": [
    {
     "data": {
      "text/plain": [
       "\n",
       "Error: Batch\n",
       "          Df Sum Sq Mean Sq\n",
       "Treatment  3     55   18.33\n",
       "\n",
       "Error: Within\n",
       "          Df Sum Sq Mean Sq F value Pr(>F)  \n",
       "Treatment  3  22.75   7.583   11.67 0.0107 *\n",
       "Residuals  5   3.25   0.650                 \n",
       "---\n",
       "Signif. codes:  0 ‘***’ 0.001 ‘**’ 0.01 ‘*’ 0.05 ‘.’ 0.1 ‘ ’ 1"
      ]
     },
     "metadata": {},
     "output_type": "display_data"
    },
    {
     "ename": "ERROR",
     "evalue": "Error in UseMethod(\"extractAIC\"): no applicable method for 'extractAIC' applied to an object of class \"c('aovlist', 'listof')\"\n",
     "output_type": "error",
     "traceback": [
      "Error in UseMethod(\"extractAIC\"): no applicable method for 'extractAIC' applied to an object of class \"c('aovlist', 'listof')\"\nTraceback:\n",
      "1. drop1(anova, test = \"F\")",
      "2. drop1.default(anova, test = \"F\")",
      "3. extractAIC(object, scale, k = k, ...)"
     ]
    }
   ],
   "source": [
    "anova <- aov(Yield ~ Treatment + Batch + Error(Batch), data=data)\n",
    "summary(anova)\n",
    "drop1(anova, test = \"F\")"
   ]
  }
 ],
 "metadata": {
  "kernelspec": {
   "display_name": "R",
   "language": "R",
   "name": "ir"
  },
  "language_info": {
   "codemirror_mode": "r",
   "file_extension": ".r",
   "mimetype": "text/x-r-source",
   "name": "R",
   "pygments_lexer": "r",
   "version": "4.1.0"
  }
 },
 "nbformat": 4,
 "nbformat_minor": 5
}
